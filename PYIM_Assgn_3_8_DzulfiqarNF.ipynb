{
  "nbformat": 4,
  "nbformat_minor": 0,
  "metadata": {
    "colab": {
      "name": "PYIM_Assgn_3_8_DzulfiqarNF.ipynb",
      "provenance": [],
      "collapsed_sections": [],
      "include_colab_link": true
    },
    "kernelspec": {
      "display_name": "Python 3",
      "name": "python3"
    },
    "accelerator": "GPU"
  },
  "cells": [
    {
      "cell_type": "markdown",
      "metadata": {
        "id": "view-in-github",
        "colab_type": "text"
      },
      "source": [
        "<a href=\"https://colab.research.google.com/github/dzulfqr/testing/blob/master/PYIM_Assgn_3_8_DzulfiqarNF.ipynb\" target=\"_parent\"><img src=\"https://colab.research.google.com/assets/colab-badge.svg\" alt=\"Open In Colab\"/></a>"
      ]
    },
    {
      "cell_type": "markdown",
      "metadata": {
        "id": "9TnJztDZGw-n"
      },
      "source": [
        "# 👩‍💻 Is this a good software? 👨‍💻"
      ]
    },
    {
      "cell_type": "markdown",
      "metadata": {
        "id": "lUWearf0Gw-p"
      },
      "source": [
        "Di dalam notebook ini, saya mencoba merangkum proses yang dilakukan dalam mengimplementasikan RNN dengan Tensorflow untuk membuat model klasifikasi teks, termasuk dataset preprocessing sebelum membuat model tersebut. Data yang digunakan merupakan salah satu dari Tensorflow Datasets, yaitu Amazon US Reviews dan yang diambil khusus untuk produk Software saja ‎‍💻"
      ]
    },
    {
      "cell_type": "markdown",
      "metadata": {
        "id": "_2VQo4bajwUU"
      },
      "source": [
        "## Persiapan\n",
        "Langkah ini dilakukan jika kita mengambil data langsung dari sumbernya yaitu TFDS (TensorFlow DataSet). Anda bisa skip langsung ke bagian \"Import Data\" untuk menggunakan ready to use data dalam bentuk csv. Pastikan sudah memiliki file tersebut."
      ]
    },
    {
      "cell_type": "code",
      "metadata": {
        "id": "z682XYsrjkY9"
      },
      "source": [
        "import tensorflow_datasets as tfds\n",
        "import tensorflow as tf\n",
        "import numpy as np\n",
        "\n",
        "# agar progress bar saat memperoleh dataset tidak perlu ditampilkan\n",
        "tfds.disable_progress_bar()"
      ],
      "execution_count": 1,
      "outputs": []
    },
    {
      "cell_type": "markdown",
      "metadata": {
        "id": "1rXHa-w9JZhb"
      },
      "source": [
        "Import `matplotlib` dan buat fungsi yang akan membantu dalam membuat/plot grafik:"
      ]
    },
    {
      "cell_type": "code",
      "metadata": {
        "id": "Mp1Z7P9pYRSK"
      },
      "source": [
        "import matplotlib.pyplot as plt\n",
        "\n",
        "def plot_graphs(history, metric):\n",
        "  plt.plot(history.history[metric])\n",
        "  plt.plot(history.history['val_'+metric], '')\n",
        "  plt.xlabel(\"Epochs\")\n",
        "  plt.ylabel(metric)\n",
        "  plt.legend([metric, 'val_'+metric])"
      ],
      "execution_count": 2,
      "outputs": []
    },
    {
      "cell_type": "markdown",
      "metadata": {
        "id": "pRmMubr0jrE2"
      },
      "source": [
        "## Membuat input pipeline\n",
        "\n",
        "\n",
        "Dataset review Amazon merupakan dataset yang sangat besar, kita hanya ambil bagian Video Game. Selain itu, berbeda dengan dataset IMDB, dataset ini belum dipisah antara training dan test-nya. Target atau label yang akan diprediksi *binary classification* — isinya adalah sentimen *positive* dan *negative*. Label ini pun belum dipisah dalam dataset. Karena alasan-alasan tersebut, dibutuhkan konfigurasi di bawah.\n",
        "\n",
        "Download dataset-nya menggunakan [TFDS](https://www.tensorflow.org/datasets).\n"
      ]
    },
    {
      "cell_type": "code",
      "metadata": {
        "id": "SHRwRoP2nVHX",
        "colab": {
          "base_uri": "https://localhost:8080/"
        },
        "outputId": "e7aa8035-a127-429a-acab-5413ddf3406d"
      },
      "source": [
        "dataset, info = tfds.load('amazon_us_reviews/Software_v1_00', with_info=True,\n",
        "                          as_supervised=False)\n",
        "\n",
        "# hanya ada bagian 'train', bagian 'test' tidak ada\n",
        "train_dataset = dataset['train']\n",
        "\n",
        "# rincian kolom dalam dataset tersebut dengan jenis datanya TensorSpec\n",
        "train_dataset.element_spec"
      ],
      "execution_count": 3,
      "outputs": [
        {
          "output_type": "stream",
          "text": [
            "\u001b[1mDownloading and preparing dataset amazon_us_reviews/Software_v1_00/0.1.0 (download: 89.66 MiB, generated: Unknown size, total: 89.66 MiB) to /root/tensorflow_datasets/amazon_us_reviews/Software_v1_00/0.1.0...\u001b[0m\n",
            "Shuffling and writing examples to /root/tensorflow_datasets/amazon_us_reviews/Software_v1_00/0.1.0.incompleteW50VDP/amazon_us_reviews-train.tfrecord\n",
            "\u001b[1mDataset amazon_us_reviews downloaded and prepared to /root/tensorflow_datasets/amazon_us_reviews/Software_v1_00/0.1.0. Subsequent calls will reuse this data.\u001b[0m\n"
          ],
          "name": "stdout"
        },
        {
          "output_type": "execute_result",
          "data": {
            "text/plain": [
              "{'data': {'customer_id': TensorSpec(shape=(), dtype=tf.string, name=None),\n",
              "  'helpful_votes': TensorSpec(shape=(), dtype=tf.int32, name=None),\n",
              "  'marketplace': TensorSpec(shape=(), dtype=tf.string, name=None),\n",
              "  'product_category': TensorSpec(shape=(), dtype=tf.string, name=None),\n",
              "  'product_id': TensorSpec(shape=(), dtype=tf.string, name=None),\n",
              "  'product_parent': TensorSpec(shape=(), dtype=tf.string, name=None),\n",
              "  'product_title': TensorSpec(shape=(), dtype=tf.string, name=None),\n",
              "  'review_body': TensorSpec(shape=(), dtype=tf.string, name=None),\n",
              "  'review_date': TensorSpec(shape=(), dtype=tf.string, name=None),\n",
              "  'review_headline': TensorSpec(shape=(), dtype=tf.string, name=None),\n",
              "  'review_id': TensorSpec(shape=(), dtype=tf.string, name=None),\n",
              "  'star_rating': TensorSpec(shape=(), dtype=tf.int32, name=None),\n",
              "  'total_votes': TensorSpec(shape=(), dtype=tf.int32, name=None),\n",
              "  'verified_purchase': TensorSpec(shape=(), dtype=tf.int64, name=None),\n",
              "  'vine': TensorSpec(shape=(), dtype=tf.int64, name=None)}}"
            ]
          },
          "metadata": {
            "tags": []
          },
          "execution_count": 3
        }
      ]
    },
    {
      "cell_type": "code",
      "metadata": {
        "id": "7DJPRA-z1yto",
        "colab": {
          "base_uri": "https://localhost:8080/",
          "height": 399
        },
        "outputId": "02a0aeca-2742-4ade-c992-f12030d19b3b"
      },
      "source": [
        "# load data sebagai dataframe untuk memeriksa isinya, dan mendefinisikan label\n",
        "df = tfds.as_dataframe(dataset['train'], info)\n",
        "df.head()"
      ],
      "execution_count": 4,
      "outputs": [
        {
          "output_type": "execute_result",
          "data": {
            "text/html": [
              "<div>\n",
              "<style scoped>\n",
              "    .dataframe tbody tr th:only-of-type {\n",
              "        vertical-align: middle;\n",
              "    }\n",
              "\n",
              "    .dataframe tbody tr th {\n",
              "        vertical-align: top;\n",
              "    }\n",
              "\n",
              "    .dataframe thead th {\n",
              "        text-align: right;\n",
              "    }\n",
              "</style>\n",
              "<table border=\"1\" class=\"dataframe\">\n",
              "  <thead>\n",
              "    <tr style=\"text-align: right;\">\n",
              "      <th></th>\n",
              "      <th>data/customer_id</th>\n",
              "      <th>data/helpful_votes</th>\n",
              "      <th>data/marketplace</th>\n",
              "      <th>data/product_category</th>\n",
              "      <th>data/product_id</th>\n",
              "      <th>data/product_parent</th>\n",
              "      <th>data/product_title</th>\n",
              "      <th>data/review_body</th>\n",
              "      <th>data/review_date</th>\n",
              "      <th>data/review_headline</th>\n",
              "      <th>data/review_id</th>\n",
              "      <th>data/star_rating</th>\n",
              "      <th>data/total_votes</th>\n",
              "      <th>data/verified_purchase</th>\n",
              "      <th>data/vine</th>\n",
              "    </tr>\n",
              "  </thead>\n",
              "  <tbody>\n",
              "    <tr>\n",
              "      <th>0</th>\n",
              "      <td>b'16092114'</td>\n",
              "      <td>0</td>\n",
              "      <td>b'US'</td>\n",
              "      <td>b'Software'</td>\n",
              "      <td>b'B00K7DFZM8'</td>\n",
              "      <td>b'463164798'</td>\n",
              "      <td>b'Ultimate eBook Creator - eBook Creation Soft...</td>\n",
              "      <td>b'I looked at many similar products before pur...</td>\n",
              "      <td>b'2015-05-08'</td>\n",
              "      <td>b'Love the product and the support!'</td>\n",
              "      <td>b'R3ZF93NH4JW4A'</td>\n",
              "      <td>5</td>\n",
              "      <td>3</td>\n",
              "      <td>1</td>\n",
              "      <td>1</td>\n",
              "    </tr>\n",
              "    <tr>\n",
              "      <th>1</th>\n",
              "      <td>b'41249792'</td>\n",
              "      <td>0</td>\n",
              "      <td>b'US'</td>\n",
              "      <td>b'Software'</td>\n",
              "      <td>b'B0009R5KPY'</td>\n",
              "      <td>b'893620404'</td>\n",
              "      <td>b'Webroot Desktop Firewall/Spy Sweeper Bundle'</td>\n",
              "      <td>b'This version of Webroot Desktop Firewall has...</td>\n",
              "      <td>b'2011-06-27'</td>\n",
              "      <td>b'Very simple older firewall, but has some pro...</td>\n",
              "      <td>b'R2R4VJ8I2AW452'</td>\n",
              "      <td>3</td>\n",
              "      <td>0</td>\n",
              "      <td>1</td>\n",
              "      <td>1</td>\n",
              "    </tr>\n",
              "    <tr>\n",
              "      <th>2</th>\n",
              "      <td>b'49439957'</td>\n",
              "      <td>0</td>\n",
              "      <td>b'US'</td>\n",
              "      <td>b'Software'</td>\n",
              "      <td>b'B004M39SU4'</td>\n",
              "      <td>b'70948804'</td>\n",
              "      <td>b'(2011 Version) Instant Immersion Chinese Lev...</td>\n",
              "      <td>b'they compare them selves to fluenz, but it i...</td>\n",
              "      <td>b'2013-02-03'</td>\n",
              "      <td>b'they compare them selves to fluenz'</td>\n",
              "      <td>b'R3VBC4RGM7NBZN'</td>\n",
              "      <td>2</td>\n",
              "      <td>2</td>\n",
              "      <td>0</td>\n",
              "      <td>1</td>\n",
              "    </tr>\n",
              "    <tr>\n",
              "      <th>3</th>\n",
              "      <td>b'15588846'</td>\n",
              "      <td>8</td>\n",
              "      <td>b'US'</td>\n",
              "      <td>b'Software'</td>\n",
              "      <td>b'B007S0313I'</td>\n",
              "      <td>b'921177771'</td>\n",
              "      <td>b'Adobe Photoshop Extended CS6 Student and Tea...</td>\n",
              "      <td>b'I would love to give Photoshop 5 stars.  CS6...</td>\n",
              "      <td>b'2012-11-23'</td>\n",
              "      <td>b'Missing an important feature !!'</td>\n",
              "      <td>b'R2Y1JR0BW16OX2'</td>\n",
              "      <td>3</td>\n",
              "      <td>9</td>\n",
              "      <td>1</td>\n",
              "      <td>1</td>\n",
              "    </tr>\n",
              "    <tr>\n",
              "      <th>4</th>\n",
              "      <td>b'22541830'</td>\n",
              "      <td>11</td>\n",
              "      <td>b'US'</td>\n",
              "      <td>b'Software'</td>\n",
              "      <td>b'B0000DG2N4'</td>\n",
              "      <td>b'581479189'</td>\n",
              "      <td>b'Sun StarOffice 7'</td>\n",
              "      <td>b\"StarOffice 7 is a good office suite for the ...</td>\n",
              "      <td>b'2003-12-17'</td>\n",
              "      <td>b'Good product for the price it sells, but...'</td>\n",
              "      <td>b'R262IV4XVJ21Q8'</td>\n",
              "      <td>4</td>\n",
              "      <td>12</td>\n",
              "      <td>1</td>\n",
              "      <td>1</td>\n",
              "    </tr>\n",
              "  </tbody>\n",
              "</table>\n",
              "</div>"
            ],
            "text/plain": [
              "  data/customer_id  data/helpful_votes  ... data/verified_purchase data/vine\n",
              "0      b'16092114'                   0  ...                      1         1\n",
              "1      b'41249792'                   0  ...                      1         1\n",
              "2      b'49439957'                   0  ...                      0         1\n",
              "3      b'15588846'                   8  ...                      1         1\n",
              "4      b'22541830'                  11  ...                      1         1\n",
              "\n",
              "[5 rows x 15 columns]"
            ]
          },
          "metadata": {
            "tags": []
          },
          "execution_count": 4
        }
      ]
    },
    {
      "cell_type": "code",
      "metadata": {
        "colab": {
          "base_uri": "https://localhost:8080/"
        },
        "id": "SFXeRbDbFDGI",
        "outputId": "0ba895f8-24a6-47c4-d51c-32b211489937"
      },
      "source": [
        "# jumlah raw data\n",
        "len(df)"
      ],
      "execution_count": 5,
      "outputs": [
        {
          "output_type": "execute_result",
          "data": {
            "text/plain": [
              "341931"
            ]
          },
          "metadata": {
            "tags": []
          },
          "execution_count": 5
        }
      ]
    },
    {
      "cell_type": "code",
      "metadata": {
        "colab": {
          "base_uri": "https://localhost:8080/"
        },
        "id": "mBgf-QFaFE1K",
        "outputId": "3af25662-e95f-4cad-f8ff-84ba97b83301"
      },
      "source": [
        "# mengambil hanya review 1-2 untuk negative label, dan 4-5 untuk positive label\n",
        "df = df[df['data/star_rating'] != 3]\n",
        "len(df)"
      ],
      "execution_count": 6,
      "outputs": [
        {
          "output_type": "execute_result",
          "data": {
            "text/plain": [
              "311255"
            ]
          },
          "metadata": {
            "tags": []
          },
          "execution_count": 6
        }
      ]
    },
    {
      "cell_type": "code",
      "metadata": {
        "id": "at__3uEq3rPx",
        "colab": {
          "base_uri": "https://localhost:8080/"
        },
        "outputId": "21ef0d4d-4a8d-4bb6-ac47-e6ee1ea4af7d"
      },
      "source": [
        "df['Sentiment'] = df['data/star_rating'].apply(lambda score: 'positive' if score > 3 else 'negative')\n",
        "df['Sentiment'] = df['Sentiment'].map({'positive':1, 'negative':0})\n",
        "df['short_review'] =df['data/review_body'].str.decode(\"utf-8\")\n",
        "df = df[[\"short_review\", \"Sentiment\"]]"
      ],
      "execution_count": 7,
      "outputs": [
        {
          "output_type": "stream",
          "text": [
            "/usr/local/lib/python3.7/dist-packages/ipykernel_launcher.py:1: SettingWithCopyWarning: \n",
            "A value is trying to be set on a copy of a slice from a DataFrame.\n",
            "Try using .loc[row_indexer,col_indexer] = value instead\n",
            "\n",
            "See the caveats in the documentation: https://pandas.pydata.org/pandas-docs/stable/user_guide/indexing.html#returning-a-view-versus-a-copy\n",
            "  \"\"\"Entry point for launching an IPython kernel.\n",
            "/usr/local/lib/python3.7/dist-packages/ipykernel_launcher.py:2: SettingWithCopyWarning: \n",
            "A value is trying to be set on a copy of a slice from a DataFrame.\n",
            "Try using .loc[row_indexer,col_indexer] = value instead\n",
            "\n",
            "See the caveats in the documentation: https://pandas.pydata.org/pandas-docs/stable/user_guide/indexing.html#returning-a-view-versus-a-copy\n",
            "  \n",
            "/usr/local/lib/python3.7/dist-packages/ipykernel_launcher.py:3: SettingWithCopyWarning: \n",
            "A value is trying to be set on a copy of a slice from a DataFrame.\n",
            "Try using .loc[row_indexer,col_indexer] = value instead\n",
            "\n",
            "See the caveats in the documentation: https://pandas.pydata.org/pandas-docs/stable/user_guide/indexing.html#returning-a-view-versus-a-copy\n",
            "  This is separate from the ipykernel package so we can avoid doing imports until\n"
          ],
          "name": "stderr"
        }
      ]
    },
    {
      "cell_type": "code",
      "metadata": {
        "colab": {
          "base_uri": "https://localhost:8080/",
          "height": 206
        },
        "id": "qO-nADS5FKFD",
        "outputId": "02232773-a267-4884-c9ed-727fccad4ec5"
      },
      "source": [
        "# melihat data final\n",
        "df.head()"
      ],
      "execution_count": 8,
      "outputs": [
        {
          "output_type": "execute_result",
          "data": {
            "text/html": [
              "<div>\n",
              "<style scoped>\n",
              "    .dataframe tbody tr th:only-of-type {\n",
              "        vertical-align: middle;\n",
              "    }\n",
              "\n",
              "    .dataframe tbody tr th {\n",
              "        vertical-align: top;\n",
              "    }\n",
              "\n",
              "    .dataframe thead th {\n",
              "        text-align: right;\n",
              "    }\n",
              "</style>\n",
              "<table border=\"1\" class=\"dataframe\">\n",
              "  <thead>\n",
              "    <tr style=\"text-align: right;\">\n",
              "      <th></th>\n",
              "      <th>short_review</th>\n",
              "      <th>Sentiment</th>\n",
              "    </tr>\n",
              "  </thead>\n",
              "  <tbody>\n",
              "    <tr>\n",
              "      <th>0</th>\n",
              "      <td>I looked at many similar products before purch...</td>\n",
              "      <td>1</td>\n",
              "    </tr>\n",
              "    <tr>\n",
              "      <th>2</th>\n",
              "      <td>they compare them selves to fluenz, but it is ...</td>\n",
              "      <td>0</td>\n",
              "    </tr>\n",
              "    <tr>\n",
              "      <th>4</th>\n",
              "      <td>StarOffice 7 is a good office suite for the mo...</td>\n",
              "      <td>1</td>\n",
              "    </tr>\n",
              "    <tr>\n",
              "      <th>5</th>\n",
              "      <td>Good!!!!!!!</td>\n",
              "      <td>1</td>\n",
              "    </tr>\n",
              "    <tr>\n",
              "      <th>6</th>\n",
              "      <td>I just bought Britannica Puzzle Potpourri.  It...</td>\n",
              "      <td>0</td>\n",
              "    </tr>\n",
              "  </tbody>\n",
              "</table>\n",
              "</div>"
            ],
            "text/plain": [
              "                                        short_review  Sentiment\n",
              "0  I looked at many similar products before purch...          1\n",
              "2  they compare them selves to fluenz, but it is ...          0\n",
              "4  StarOffice 7 is a good office suite for the mo...          1\n",
              "5                                        Good!!!!!!!          1\n",
              "6  I just bought Britannica Puzzle Potpourri.  It...          0"
            ]
          },
          "metadata": {
            "tags": []
          },
          "execution_count": 8
        }
      ]
    },
    {
      "cell_type": "code",
      "metadata": {
        "id": "OjejauUe36zi"
      },
      "source": [
        "# menyimpan data final ke file csv\n",
        "df.to_csv('processed_software.csv')"
      ],
      "execution_count": 9,
      "outputs": []
    },
    {
      "cell_type": "markdown",
      "metadata": {
        "id": "xkes5S703iok"
      },
      "source": [
        "## Import data\n",
        "Mulai dari bagian ini jika Anda ignin langsung menggunakan ready to use data dalam bentuk csv. Pastikan sudah memiliki file tersebut.\n"
      ]
    },
    {
      "cell_type": "code",
      "metadata": {
        "id": "52pccrCs92S8"
      },
      "source": [
        "# import pandas as pd\n",
        "# df = pd.read_csv('processed_software.csv')"
      ],
      "execution_count": 10,
      "outputs": []
    },
    {
      "cell_type": "code",
      "metadata": {
        "id": "EM2XhI7n4IBS",
        "colab": {
          "base_uri": "https://localhost:8080/",
          "height": 206
        },
        "outputId": "b55529b4-8653-4339-cca9-c2e1e6ceadfc"
      },
      "source": [
        "df.head()"
      ],
      "execution_count": 11,
      "outputs": [
        {
          "output_type": "execute_result",
          "data": {
            "text/html": [
              "<div>\n",
              "<style scoped>\n",
              "    .dataframe tbody tr th:only-of-type {\n",
              "        vertical-align: middle;\n",
              "    }\n",
              "\n",
              "    .dataframe tbody tr th {\n",
              "        vertical-align: top;\n",
              "    }\n",
              "\n",
              "    .dataframe thead th {\n",
              "        text-align: right;\n",
              "    }\n",
              "</style>\n",
              "<table border=\"1\" class=\"dataframe\">\n",
              "  <thead>\n",
              "    <tr style=\"text-align: right;\">\n",
              "      <th></th>\n",
              "      <th>short_review</th>\n",
              "      <th>Sentiment</th>\n",
              "    </tr>\n",
              "  </thead>\n",
              "  <tbody>\n",
              "    <tr>\n",
              "      <th>0</th>\n",
              "      <td>I looked at many similar products before purch...</td>\n",
              "      <td>1</td>\n",
              "    </tr>\n",
              "    <tr>\n",
              "      <th>2</th>\n",
              "      <td>they compare them selves to fluenz, but it is ...</td>\n",
              "      <td>0</td>\n",
              "    </tr>\n",
              "    <tr>\n",
              "      <th>4</th>\n",
              "      <td>StarOffice 7 is a good office suite for the mo...</td>\n",
              "      <td>1</td>\n",
              "    </tr>\n",
              "    <tr>\n",
              "      <th>5</th>\n",
              "      <td>Good!!!!!!!</td>\n",
              "      <td>1</td>\n",
              "    </tr>\n",
              "    <tr>\n",
              "      <th>6</th>\n",
              "      <td>I just bought Britannica Puzzle Potpourri.  It...</td>\n",
              "      <td>0</td>\n",
              "    </tr>\n",
              "  </tbody>\n",
              "</table>\n",
              "</div>"
            ],
            "text/plain": [
              "                                        short_review  Sentiment\n",
              "0  I looked at many similar products before purch...          1\n",
              "2  they compare them selves to fluenz, but it is ...          0\n",
              "4  StarOffice 7 is a good office suite for the mo...          1\n",
              "5                                        Good!!!!!!!          1\n",
              "6  I just bought Britannica Puzzle Potpourri.  It...          0"
            ]
          },
          "metadata": {
            "tags": []
          },
          "execution_count": 11
        }
      ]
    },
    {
      "cell_type": "code",
      "metadata": {
        "colab": {
          "base_uri": "https://localhost:8080/"
        },
        "id": "wk4tNK3qKVKb",
        "outputId": "b8703409-9755-4adc-ad65-43762c065a32"
      },
      "source": [
        "df['Sentiment'].unique()"
      ],
      "execution_count": 12,
      "outputs": [
        {
          "output_type": "execute_result",
          "data": {
            "text/plain": [
              "array([1, 0])"
            ]
          },
          "metadata": {
            "tags": []
          },
          "execution_count": 12
        }
      ]
    },
    {
      "cell_type": "markdown",
      "metadata": {
        "id": "YEGdi5hK4ljv"
      },
      "source": [
        "## Pemisahan data train & test\n",
        "Dalam kode ini dilakukan pemisahan data ke bagian train dan test dengan komposisi 80% dan 20% secara berturut-turut."
      ]
    },
    {
      "cell_type": "code",
      "metadata": {
        "id": "Co00OZTyGFr2"
      },
      "source": [
        "# data masih berupa pandas dataframe\n",
        "df.reset_index()\n",
        "benchmark = int(0.8 * len(df))\n",
        "train_df = df.iloc[:benchmark, :]\n",
        "test_df = df.iloc[benchmark:, :]"
      ],
      "execution_count": 13,
      "outputs": []
    },
    {
      "cell_type": "code",
      "metadata": {
        "colab": {
          "base_uri": "https://localhost:8080/"
        },
        "id": "6n36ewc1GflY",
        "outputId": "b8f0fb7b-7f11-4eef-d156-cd191d4fcc96"
      },
      "source": [
        "# jumlah data yang sudah dipisah\n",
        "len(train_df), len(test_df)"
      ],
      "execution_count": 14,
      "outputs": [
        {
          "output_type": "execute_result",
          "data": {
            "text/plain": [
              "(249004, 62251)"
            ]
          },
          "metadata": {
            "tags": []
          },
          "execution_count": 14
        }
      ]
    },
    {
      "cell_type": "code",
      "metadata": {
        "id": "rJOMe_L3HAAb"
      },
      "source": [
        "# mendefinisikan variabel untuk x_train dan y_train secara berturut-turut\n",
        "reviews_train = train_df['short_review'].values.tolist()\n",
        "labels_train = train_df['Sentiment'].tolist()"
      ],
      "execution_count": 15,
      "outputs": []
    },
    {
      "cell_type": "code",
      "metadata": {
        "id": "v0zFsG-gHldR"
      },
      "source": [
        "# mendefinisikan variabel untuk x_test dan y_test secara berturut-turut\n",
        "reviews_test = test_df['short_review'].values.tolist()\n",
        "labels_test = test_df['Sentiment'].tolist()"
      ],
      "execution_count": 16,
      "outputs": []
    },
    {
      "cell_type": "code",
      "metadata": {
        "colab": {
          "base_uri": "https://localhost:8080/",
          "height": 70
        },
        "id": "lYyyz0HxInDd",
        "outputId": "c22c88ba-0a6a-4e56-8468-9de88b406f84"
      },
      "source": [
        "# berikut contoh salah satu x_test\n",
        "reviews_test[90]"
      ],
      "execution_count": 17,
      "outputs": [
        {
          "output_type": "execute_result",
          "data": {
            "application/vnd.google.colaboratory.intrinsic+json": {
              "type": "string"
            },
            "text/plain": [
              "'As a web designer/developer this package has everything you need to get going and/or update your older software. Photoshop CS2 is vastly superior to its predecessors in terms of all the new offerings. There are products in the package that are totally useless (I mean come on - what self-respecting web designer uses GoLive?), but it was far less expensive to buy the bundle than individual products.'"
            ]
          },
          "metadata": {
            "tags": []
          },
          "execution_count": 17
        }
      ]
    },
    {
      "cell_type": "markdown",
      "metadata": {
        "id": "wVHWyqVd5Ufp"
      },
      "source": [
        "Selanjutnya, convert dataset yang semula masih dalam bentuk pandas dataframe, menjadi dataset tensorflow. Lakukan pula shuffle dan pembuatan batches untuk processing nantinya. Tentukan nilai buffer size dan juga batch size nya. Autotune pun dilakukan di akhir untuk train dataset maupun test dataset."
      ]
    },
    {
      "cell_type": "code",
      "metadata": {
        "id": "VvSzaD-uHhB5"
      },
      "source": [
        "BUFFER_SIZE = 10000\n",
        "BATCH_SIZE = 64"
      ],
      "execution_count": 18,
      "outputs": []
    },
    {
      "cell_type": "code",
      "metadata": {
        "id": "Pdnfs1_iHO7W"
      },
      "source": [
        "train_dataset = tf.data.Dataset.from_tensor_slices((reviews_train, labels_train)).shuffle(BUFFER_SIZE).batch(BATCH_SIZE).prefetch(tf.data.AUTOTUNE)"
      ],
      "execution_count": 19,
      "outputs": []
    },
    {
      "cell_type": "code",
      "metadata": {
        "id": "4bw6lLQRHjaF"
      },
      "source": [
        "test_dataset = tf.data.Dataset.from_tensor_slices((reviews_test, labels_test)).batch(BATCH_SIZE).prefetch(tf.data.AUTOTUNE)"
      ],
      "execution_count": 20,
      "outputs": []
    },
    {
      "cell_type": "markdown",
      "metadata": {
        "id": "rLvFEDtS50Hs"
      },
      "source": [
        "Jenis data dalam dataset: string untuk reviews nya, sedangkan integer untuk labels nya."
      ]
    },
    {
      "cell_type": "code",
      "metadata": {
        "id": "1DrTttOQ4mB6",
        "colab": {
          "base_uri": "https://localhost:8080/"
        },
        "outputId": "c4ced386-eeac-4993-c56b-4b89385e7325"
      },
      "source": [
        "train_dataset"
      ],
      "execution_count": 21,
      "outputs": [
        {
          "output_type": "execute_result",
          "data": {
            "text/plain": [
              "<PrefetchDataset shapes: ((None,), (None,)), types: (tf.string, tf.int32)>"
            ]
          },
          "metadata": {
            "tags": []
          },
          "execution_count": 21
        }
      ]
    },
    {
      "cell_type": "code",
      "metadata": {
        "id": "6QWaK33s5jqe",
        "colab": {
          "base_uri": "https://localhost:8080/"
        },
        "outputId": "67f5820e-036e-4548-ade8-858ebb9b47dc"
      },
      "source": [
        "test_dataset"
      ],
      "execution_count": 22,
      "outputs": [
        {
          "output_type": "execute_result",
          "data": {
            "text/plain": [
              "<PrefetchDataset shapes: ((None,), (None,)), types: (tf.string, tf.int32)>"
            ]
          },
          "metadata": {
            "tags": []
          },
          "execution_count": 22
        }
      ]
    },
    {
      "cell_type": "markdown",
      "metadata": {
        "id": "z2qVJzcEluH_"
      },
      "source": [
        "Selanjutnya menampilkan pasangan `(text, label)` dari dataset yang sudah di-shuffle dan dibuat batches:"
      ]
    },
    {
      "cell_type": "code",
      "metadata": {
        "id": "vd4_BGKyurao",
        "colab": {
          "base_uri": "https://localhost:8080/"
        },
        "outputId": "2067b81a-2215-47e3-e1d4-ccd70cc7844d"
      },
      "source": [
        "for example, label in train_dataset.take(1):\n",
        "  print('texts: ', example.numpy()[:3])\n",
        "  print()\n",
        "  print('labels: ', label.numpy()[:3])"
      ],
      "execution_count": 23,
      "outputs": [
        {
          "output_type": "stream",
          "text": [
            "texts:  [b'The game didint work and could not be loaded into the computer'\n",
            " b\"Being a very smart user of computers, i might have had more luck then the other people.<br />This worked fine for me with windows XP.<br />It has a good E-mail protection that has protected me numerous times. It's firewall is very logical with not a lot of settings to edit. Also the anti-virus works very good, and protects against web based viruses.<br />Best thing about this is the fact that you can set it to auto-update. It will download new virus definitions without even bothering you, might slow down your internet though.<br />i got this with rebates that brought it down to like 5$, and this is well worth the money.<br />Only problem is the &quot;program&quot; controle. It does try to limit the access of a lot of programs, and i have got it to where it accepts everything execpt for my AIM start-up. So instead i have to manually click the AIM icon.<br />Also, there are prompts where it asks you if you want to block internet access to certain things (mostly ads). And you have to know what it is your blocking first inorder to pick the right answer.<br />All in all worth 5 stars if your good with computers and can edit settings.\"\n",
            " b'I highly recommend Microsoft Digitial Image Suite 10 and the free GIMP programs for ALL of your digital imaging needs!!!  (...)  DIS 10 should be out now...']\n",
            "\n",
            "labels:  [0 1 1]\n"
          ],
          "name": "stdout"
        }
      ]
    },
    {
      "cell_type": "markdown",
      "metadata": {
        "id": "s5eWCo88voPY"
      },
      "source": [
        "## Membuat encoder untuk text"
      ]
    },
    {
      "cell_type": "markdown",
      "metadata": {
        "id": "RXK7Sh7j6e0W"
      },
      "source": [
        "Teks mentah yang dimuat oleh `tfds` perlu diproses sebelum dapat digunakan dalam model. Cara paling sederhana untuk memproses teks untuk training adalah menggunakan layer `experimental.preprocessing.TextVectorization`. Layer ini memiliki banyak kemampuan, untuk saat ini saya masih tetap menggunakan default.\n",
        "\n",
        "Buat layer, dan teruskan teks dataset yang dilakukan training ke metode `.adapt` yang dimiliki layer:"
      ]
    },
    {
      "cell_type": "code",
      "metadata": {
        "id": "uC25Lu1Yvuqy"
      },
      "source": [
        "VOCAB_SIZE = 1000\n",
        "encoder = tf.keras.layers.experimental.preprocessing.TextVectorization(\n",
        "    max_tokens=VOCAB_SIZE)\n",
        "encoder.adapt(train_dataset.map(lambda text, label: text))"
      ],
      "execution_count": 24,
      "outputs": []
    },
    {
      "cell_type": "markdown",
      "metadata": {
        "id": "IuQzVBbe3Ldu"
      },
      "source": [
        "Metode `.adapt` mengatur 'vocabulary' dari layer. Berikut adalah 20 token pertama. Setelah padding dan didefinisikan token yang tidak diketahui (UNK), mereka diurutkan berdasarkan seberapa sering kemunculannya:"
      ]
    },
    {
      "cell_type": "code",
      "metadata": {
        "id": "tBoyjjWg0Ac9",
        "colab": {
          "base_uri": "https://localhost:8080/"
        },
        "outputId": "0863f72f-7572-4327-886a-bee7f8ea0daa"
      },
      "source": [
        "vocab = np.array(encoder.get_vocabulary())\n",
        "vocab[:20]"
      ],
      "execution_count": 25,
      "outputs": [
        {
          "output_type": "execute_result",
          "data": {
            "text/plain": [
              "array(['', '[UNK]', 'the', 'to', 'i', 'and', 'a', 'it', 'of', 'is', 'for',\n",
              "       'this', 'you', 'that', 'in', 'with', 'my', 'have', 'on', 'br'],\n",
              "      dtype='<U13')"
            ]
          },
          "metadata": {
            "tags": []
          },
          "execution_count": 25
        }
      ]
    },
    {
      "cell_type": "markdown",
      "metadata": {
        "id": "mjId5pua3jHQ"
      },
      "source": [
        "Setelah vocabulary diatur, layer dapat encode teks ke dalam indeks. Tensor indeks 0-padded ke sequence terpanjang dalam batch (kecuali jika Anda menetapkan `output_sequence_length`):"
      ]
    },
    {
      "cell_type": "code",
      "metadata": {
        "id": "RGc7C9WiwRWs",
        "colab": {
          "base_uri": "https://localhost:8080/"
        },
        "outputId": "5220a31b-a290-446a-d212-dd08e8bba465"
      },
      "source": [
        "encoded_example = encoder(example)[:3].numpy()\n",
        "encoded_example"
      ],
      "execution_count": 26,
      "outputs": [
        {
          "output_type": "execute_result",
          "data": {
            "text/plain": [
              "array([[  2, 104,   1, ...,   0,   0,   0],\n",
              "       [245,   6,  43, ...,   0,   0,   0],\n",
              "       [  4, 340, 145, ...,   0,   0,   0]])"
            ]
          },
          "metadata": {
            "tags": []
          },
          "execution_count": 26
        }
      ]
    },
    {
      "cell_type": "code",
      "metadata": {
        "id": "N_tD0QY5wXaK",
        "colab": {
          "base_uri": "https://localhost:8080/"
        },
        "outputId": "3e78269a-439e-4322-8842-85f32134978f"
      },
      "source": [
        "for n in range(3):\n",
        "  print(\"Original: \", example[n].numpy())\n",
        "  print(\"Round-trip: \", \" \".join(vocab[encoded_example[n]]))\n",
        "  print()"
      ],
      "execution_count": 27,
      "outputs": [
        {
          "output_type": "stream",
          "text": [
            "Original:  b'The game didint work and could not be loaded into the computer'\n",
            "Round-trip:  the game [UNK] work and could not be loaded into the computer                                                                                                                                                                                                                                                                                                                                                                                                                                                            \n",
            "\n",
            "Original:  b\"Being a very smart user of computers, i might have had more luck then the other people.<br />This worked fine for me with windows XP.<br />It has a good E-mail protection that has protected me numerous times. It's firewall is very logical with not a lot of settings to edit. Also the anti-virus works very good, and protects against web based viruses.<br />Best thing about this is the fact that you can set it to auto-update. It will download new virus definitions without even bothering you, might slow down your internet though.<br />i got this with rebates that brought it down to like 5$, and this is well worth the money.<br />Only problem is the &quot;program&quot; controle. It does try to limit the access of a lot of programs, and i have got it to where it accepts everything execpt for my AIM start-up. So instead i have to manually click the AIM icon.<br />Also, there are prompts where it asks you if you want to block internet access to certain things (mostly ads). And you have to know what it is your blocking first inorder to pick the right answer.<br />All in all worth 5 stars if your good with computers and can edit settings.\"\n",
            "Round-trip:  being a very [UNK] user of computers i might have had more luck then the other [UNK] this worked fine for me with windows [UNK] it has a good email protection that has [UNK] me [UNK] times its firewall is very [UNK] with not a lot of settings to edit also the antivirus works very good and [UNK] [UNK] web based [UNK] best thing about this is the fact that you can set it to [UNK] it will download new virus [UNK] without even [UNK] you might slow down your internet [UNK] i got this with [UNK] that [UNK] it down to like 5 and this is well worth the [UNK] only problem is the [UNK] [UNK] it does try to [UNK] the access of a lot of programs and i have got it to where it [UNK] everything [UNK] for my [UNK] [UNK] so instead i have to manually click the [UNK] [UNK] also there are [UNK] where it [UNK] you if you want to block internet access to certain things [UNK] [UNK] and you have to know what it is your [UNK] first [UNK] to [UNK] the right [UNK] all in all worth 5 stars if your good with computers and can edit settings                                                                                                                                                                                                                                                          \n",
            "\n",
            "Original:  b'I highly recommend Microsoft Digitial Image Suite 10 and the free GIMP programs for ALL of your digital imaging needs!!!  (...)  DIS 10 should be out now...'\n",
            "Round-trip:  i highly recommend microsoft [UNK] image suite 10 and the free [UNK] programs for all of your digital [UNK] needs [UNK] 10 should be out now                                                                                                                                                                                                                                                                                                                                                                                                                                              \n",
            "\n"
          ],
          "name": "stdout"
        }
      ]
    },
    {
      "cell_type": "markdown",
      "metadata": {
        "id": "bjUqGVBxGw-t"
      },
      "source": [
        "## Membuat model pertama"
      ]
    },
    {
      "cell_type": "markdown",
      "metadata": {
        "id": "bgs6nnSTGw-t"
      },
      "source": [
        "1. Model ini dapat dibuat sebagai `tf.keras.Sequential`.\n",
        "\n",
        "2. Layer pertama adalah `encoder`, yang mengubah teks menjadi urutan indeks token.\n",
        "\n",
        "3. Setelah encoder adalah layer embedding. Layer embedding menyimpan satu vektor per kata. Ketika dipanggil, layer ini mengubah urutan indeks kata menjadi urutan vektor. Vektor ini dapat di-train. Setelah training (pada data yang cukup), kata-kata dengan arti yang sama sering kali memiliki vektor yang serupa.\n",
        "\n",
        "4. Sebuah recurrent neural network (RNN) memproses input 'sequence' dengan iterasi melalui elemen. RNN melewatkan output dari satu timestep ke input mereka pada timestep berikutnya.\n",
        "\n",
        "5. Setelah RNN mengubah sequence menjadi satu vektor, kedua `layers.Dense` melakukan beberapa pemrosesan akhir, dan mengubah dari representasi vektor ini menjadi single logit sebagai keluaran klasifikasi."
      ]
    },
    {
      "cell_type": "code",
      "metadata": {
        "id": "LwfoBkmRYcP3"
      },
      "source": [
        "model = tf.keras.Sequential([\n",
        "    encoder,\n",
        "    tf.keras.layers.Embedding(\n",
        "        input_dim=len(encoder.get_vocabulary()),\n",
        "        output_dim=64,\n",
        "        # Gunakan masking untuk handling panjang sequence variable\n",
        "        mask_zero=True),\n",
        "    tf.keras.layers.Bidirectional(tf.keras.layers.LSTM(64)),\n",
        "    tf.keras.layers.Dense(64, activation='relu'),\n",
        "    tf.keras.layers.Dense(1)\n",
        "])"
      ],
      "execution_count": 28,
      "outputs": []
    },
    {
      "cell_type": "markdown",
      "metadata": {
        "id": "QIGmIGkkouUb"
      },
      "source": [
        "Catatan: bahwa model sekuensial Keras digunakan di sini karena semua layer dalam model hanya memiliki input tunggal dan menghasilkan output tunggal."
      ]
    },
    {
      "cell_type": "markdown",
      "metadata": {
        "id": "kF-PsCk1LwjY"
      },
      "source": [
        "Semua layer setelah `Embedding` support masking:"
      ]
    },
    {
      "cell_type": "code",
      "metadata": {
        "id": "87a8-CwfKebw",
        "colab": {
          "base_uri": "https://localhost:8080/"
        },
        "outputId": "2e9edf8e-349f-4bf1-ffc1-f791b43f56f5"
      },
      "source": [
        "print([layer.supports_masking for layer in model.layers])"
      ],
      "execution_count": 29,
      "outputs": [
        {
          "output_type": "stream",
          "text": [
            "[False, True, True, True, True]\n"
          ],
          "name": "stdout"
        }
      ]
    },
    {
      "cell_type": "markdown",
      "metadata": {
        "id": "ZlS0iaUIWLpI"
      },
      "source": [
        "Untuk memastikan bahwa ini berfungsi seperti yang diharapkan, evaluasi sebuah kalimat dua kali. Pertama, sendiri sehingga tidak ada padding yang dilakukan masking:"
      ]
    },
    {
      "cell_type": "code",
      "metadata": {
        "id": "O41gw3KfWHus",
        "colab": {
          "base_uri": "https://localhost:8080/"
        },
        "outputId": "0ec39627-4338-40b3-d6f6-ff974817e769"
      },
      "source": [
        "# predict on a sample text without padding.\n",
        "\n",
        "sample_text = ('This software was very good and in excellent condition. It is definitely what I wanted.')\n",
        "predictions = model.predict(np.array([sample_text]))\n",
        "print(predictions[0])"
      ],
      "execution_count": 30,
      "outputs": [
        {
          "output_type": "stream",
          "text": [
            "[-0.00662531]\n"
          ],
          "name": "stdout"
        }
      ]
    },
    {
      "cell_type": "markdown",
      "metadata": {
        "id": "K0VQmGnEWcuz"
      },
      "source": [
        "Sekarang, evaluasi lagi dalam batch dengan kalimat yang lebih panjang. Hasilnya seharusnya sama:"
      ]
    },
    {
      "cell_type": "code",
      "metadata": {
        "id": "UIgpuTeFNDzq",
        "colab": {
          "base_uri": "https://localhost:8080/"
        },
        "outputId": "bf9d6fa2-3bde-451f-cc1e-a22fe3f48a58"
      },
      "source": [
        "# predict on a sample text with padding\n",
        "\n",
        "padding = \"the \" * 2000\n",
        "predictions = model.predict(np.array([sample_text, padding]))\n",
        "print(predictions[0])"
      ],
      "execution_count": 31,
      "outputs": [
        {
          "output_type": "stream",
          "text": [
            "[-0.00662531]\n"
          ],
          "name": "stdout"
        }
      ]
    },
    {
      "cell_type": "markdown",
      "metadata": {
        "id": "sRI776ZcH3Tf"
      },
      "source": [
        "Kompilasi model Keras untuk mengonfigurasi proses training:"
      ]
    },
    {
      "cell_type": "code",
      "metadata": {
        "id": "kj2xei41YZjC"
      },
      "source": [
        "model.compile(loss=tf.keras.losses.BinaryCrossentropy(from_logits=True),\n",
        "              optimizer=tf.keras.optimizers.Adam(1e-4),\n",
        "              metrics=['accuracy'])"
      ],
      "execution_count": 32,
      "outputs": []
    },
    {
      "cell_type": "markdown",
      "metadata": {
        "id": "zIwH3nto596k"
      },
      "source": [
        "## Train model yang sudah dibangun"
      ]
    },
    {
      "cell_type": "code",
      "metadata": {
        "id": "hw86wWS4YgR2",
        "colab": {
          "base_uri": "https://localhost:8080/"
        },
        "outputId": "7dc6a14f-64a3-4382-987b-d9edcd54690f"
      },
      "source": [
        "history = model.fit(train_dataset, epochs=10,\n",
        "                    validation_data=test_dataset,\n",
        "                    validation_steps=30)"
      ],
      "execution_count": 33,
      "outputs": [
        {
          "output_type": "stream",
          "text": [
            "Epoch 1/10\n",
            "3891/3891 [==============================] - 430s 109ms/step - loss: 0.3217 - accuracy: 0.8464 - val_loss: 0.2739 - val_accuracy: 0.8865\n",
            "Epoch 2/10\n",
            "3891/3891 [==============================] - 387s 99ms/step - loss: 0.2615 - accuracy: 0.8866 - val_loss: 0.2638 - val_accuracy: 0.8901\n",
            "Epoch 3/10\n",
            "3891/3891 [==============================] - 397s 102ms/step - loss: 0.2520 - accuracy: 0.8902 - val_loss: 0.2598 - val_accuracy: 0.8896\n",
            "Epoch 4/10\n",
            "3891/3891 [==============================] - 447s 115ms/step - loss: 0.2446 - accuracy: 0.8931 - val_loss: 0.2555 - val_accuracy: 0.8948\n",
            "Epoch 5/10\n",
            "3891/3891 [==============================] - 424s 109ms/step - loss: 0.2395 - accuracy: 0.8955 - val_loss: 0.2644 - val_accuracy: 0.8958\n",
            "Epoch 6/10\n",
            "3891/3891 [==============================] - 398s 102ms/step - loss: 0.2319 - accuracy: 0.8984 - val_loss: 0.2441 - val_accuracy: 0.8922\n",
            "Epoch 7/10\n",
            "3891/3891 [==============================] - 393s 101ms/step - loss: 0.2226 - accuracy: 0.9034 - val_loss: 0.2432 - val_accuracy: 0.8979\n",
            "Epoch 8/10\n",
            "3891/3891 [==============================] - 403s 104ms/step - loss: 0.2138 - accuracy: 0.9078 - val_loss: 0.2348 - val_accuracy: 0.9010\n",
            "Epoch 9/10\n",
            "3891/3891 [==============================] - 406s 104ms/step - loss: 0.2068 - accuracy: 0.9108 - val_loss: 0.2329 - val_accuracy: 0.9036\n",
            "Epoch 10/10\n",
            "3891/3891 [==============================] - 407s 105ms/step - loss: 0.2011 - accuracy: 0.9140 - val_loss: 0.2292 - val_accuracy: 0.9036\n"
          ],
          "name": "stdout"
        }
      ]
    },
    {
      "cell_type": "code",
      "metadata": {
        "id": "BaNbXi43YgUT",
        "colab": {
          "base_uri": "https://localhost:8080/"
        },
        "outputId": "c3208ff1-79e1-4da2-b7e2-a850ff66e8ee"
      },
      "source": [
        "# evaluasi nilai loss dan accuracy\n",
        "test_loss, test_acc = model.evaluate(test_dataset)\n",
        "\n",
        "print('Test Loss:', test_loss)\n",
        "print('Test Accuracy:', test_acc)"
      ],
      "execution_count": 34,
      "outputs": [
        {
          "output_type": "stream",
          "text": [
            "973/973 [==============================] - 47s 49ms/step - loss: 0.2145 - accuracy: 0.9068\n",
            "Test Loss: 0.21448001265525818\n",
            "Test Accuracy: 0.9068127274513245\n"
          ],
          "name": "stdout"
        }
      ]
    },
    {
      "cell_type": "code",
      "metadata": {
        "id": "OZmwt_mzaQJk",
        "colab": {
          "base_uri": "https://localhost:8080/",
          "height": 519
        },
        "outputId": "080019ca-3277-4362-a325-bcc1f1dabc06"
      },
      "source": [
        "# visualisasi nilai loss dan accuracy dalam setiap epochs\n",
        "plt.figure(figsize=(16, 8))\n",
        "plt.subplot(1, 2, 1)\n",
        "plot_graphs(history, 'accuracy')\n",
        "plt.ylim(None, 1)\n",
        "plt.subplot(1, 2, 2)\n",
        "plot_graphs(history, 'loss')\n",
        "plt.ylim(0, None)"
      ],
      "execution_count": 35,
      "outputs": [
        {
          "output_type": "execute_result",
          "data": {
            "text/plain": [
              "(0.0, 0.32776669040322304)"
            ]
          },
          "metadata": {
            "tags": []
          },
          "execution_count": 35
        },
        {
          "output_type": "display_data",
          "data": {
            "image/png": "[encoded data removed]",
            "text/plain": [
              "<Figure size 1152x576 with 2 Axes>"
            ]
          },
          "metadata": {
            "tags": [],
            "needs_background": "light"
          }
        }
      ]
    },
    {
      "cell_type": "markdown",
      "metadata": {
        "id": "DwSE_386uhxD"
      },
      "source": [
        "Jalankan prediksi pada kalimat baru:\n",
        "\n",
        "Jika prediksinya >= 0,0, maka positif jika tidak maka negatif."
      ]
    },
    {
      "cell_type": "code",
      "metadata": {
        "id": "ZXgfQSgRW6zU",
        "colab": {
          "base_uri": "https://localhost:8080/"
        },
        "outputId": "8829f5e3-4e90-4035-a5ce-fd279f3f4a2a"
      },
      "source": [
        "sample_text = ('This software was very good and in excellent condition. It is definitely what I wanted.')\n",
        "predictions = model.predict(np.array([sample_text]))\n",
        "print(predictions)"
      ],
      "execution_count": 36,
      "outputs": [
        {
          "output_type": "stream",
          "text": [
            "[[8.909942]]\n"
          ],
          "name": "stdout"
        }
      ]
    },
    {
      "cell_type": "code",
      "metadata": {
        "id": "-u1Ln0x1QVDt",
        "colab": {
          "base_uri": "https://localhost:8080/"
        },
        "outputId": "44043a70-ff32-43c0-8158-d7de0b57ea93"
      },
      "source": [
        "# !mkdir -p saved_model\n",
        "model.save('my_model')"
      ],
      "execution_count": 37,
      "outputs": [
        {
          "output_type": "stream",
          "text": [
            "WARNING:absl:Found untraced functions such as lstm_cell_1_layer_call_fn, lstm_cell_1_layer_call_and_return_conditional_losses, lstm_cell_2_layer_call_fn, lstm_cell_2_layer_call_and_return_conditional_losses, lstm_cell_1_layer_call_fn while saving (showing 5 of 10). These functions will not be directly callable after loading.\n"
          ],
          "name": "stderr"
        },
        {
          "output_type": "stream",
          "text": [
            "INFO:tensorflow:Assets written to: my_model/assets\n"
          ],
          "name": "stdout"
        },
        {
          "output_type": "stream",
          "text": [
            "INFO:tensorflow:Assets written to: my_model/assets\n"
          ],
          "name": "stderr"
        }
      ]
    },
    {
      "cell_type": "markdown",
      "metadata": {
        "id": "7g1evcaRpTKm"
      },
      "source": [
        "## \"Stack\" dua atau lebih layer LSTM\n",
        "\n",
        "Layer recurrent Keras memiliki dua mode yang tersedia yang dikendalikan oleh argumen konstruktor `return_sequences`."
      ]
    },
    {
      "cell_type": "markdown",
      "metadata": {
        "id": "wbSClCrG1z8l"
      },
      "source": [
        "Hal yang menarik dari penggunaan `RNN` dengan `return_sequences=True` adalah outputnya masih memiliki 3 sumbu, seperti input, sehingga dapat diteruskan ke layer RNN lain, seperti ini:"
      ]
    },
    {
      "cell_type": "code",
      "metadata": {
        "id": "jo1jjO3vn0jo"
      },
      "source": [
        "model = tf.keras.Sequential([\n",
        "    encoder,\n",
        "    tf.keras.layers.Embedding(len(encoder.get_vocabulary()), 64, mask_zero=True),\n",
        "    tf.keras.layers.Bidirectional(tf.keras.layers.LSTM(64,  return_sequences=True)),\n",
        "    tf.keras.layers.Bidirectional(tf.keras.layers.LSTM(32)),\n",
        "    tf.keras.layers.Dense(64, activation='relu'),\n",
        "    tf.keras.layers.Dropout(0.5),\n",
        "    tf.keras.layers.Dense(1)\n",
        "])"
      ],
      "execution_count": 38,
      "outputs": []
    },
    {
      "cell_type": "code",
      "metadata": {
        "id": "hEPV5jVGp-is"
      },
      "source": [
        "model.compile(loss=tf.keras.losses.BinaryCrossentropy(from_logits=True),\n",
        "              optimizer=tf.keras.optimizers.Adam(1e-4),\n",
        "              metrics=['accuracy'])"
      ],
      "execution_count": 39,
      "outputs": []
    },
    {
      "cell_type": "code",
      "metadata": {
        "id": "LeSE-YjdqAeN",
        "colab": {
          "base_uri": "https://localhost:8080/"
        },
        "outputId": "34c45f9f-cadc-498d-dee6-dc7fe70c9319"
      },
      "source": [
        "history = model.fit(train_dataset, epochs=10,\n",
        "                    validation_data=test_dataset,\n",
        "                    validation_steps=30)"
      ],
      "execution_count": 40,
      "outputs": [
        {
          "output_type": "stream",
          "text": [
            "Epoch 1/10\n",
            "3891/3891 [==============================] - 741s 186ms/step - loss: 0.3269 - accuracy: 0.8384 - val_loss: 0.2802 - val_accuracy: 0.8839\n",
            "Epoch 2/10\n",
            "3891/3891 [==============================] - 729s 187ms/step - loss: 0.2692 - accuracy: 0.8845 - val_loss: 0.2653 - val_accuracy: 0.8906\n",
            "Epoch 3/10\n",
            "3891/3891 [==============================] - 711s 183ms/step - loss: 0.2591 - accuracy: 0.8881 - val_loss: 0.2637 - val_accuracy: 0.8823\n",
            "Epoch 4/10\n",
            "3891/3891 [==============================] - 755s 194ms/step - loss: 0.2514 - accuracy: 0.8909 - val_loss: 0.2642 - val_accuracy: 0.8969\n",
            "Epoch 5/10\n",
            "3891/3891 [==============================] - 691s 178ms/step - loss: 0.2433 - accuracy: 0.8950 - val_loss: 0.2513 - val_accuracy: 0.8891\n",
            "Epoch 6/10\n",
            "3891/3891 [==============================] - 810s 208ms/step - loss: 0.2330 - accuracy: 0.8999 - val_loss: 0.2497 - val_accuracy: 0.8990\n",
            "Epoch 7/10\n",
            "3891/3891 [==============================] - 799s 205ms/step - loss: 0.2231 - accuracy: 0.9054 - val_loss: 0.2392 - val_accuracy: 0.8938\n",
            "Epoch 8/10\n",
            "3891/3891 [==============================] - 758s 195ms/step - loss: 0.2136 - accuracy: 0.9094 - val_loss: 0.2290 - val_accuracy: 0.8995\n",
            "Epoch 9/10\n",
            "3891/3891 [==============================] - 729s 187ms/step - loss: 0.2062 - accuracy: 0.9125 - val_loss: 0.2334 - val_accuracy: 0.9083\n",
            "Epoch 10/10\n",
            "3891/3891 [==============================] - 690s 177ms/step - loss: 0.1997 - accuracy: 0.9154 - val_loss: 0.2296 - val_accuracy: 0.9078\n"
          ],
          "name": "stdout"
        }
      ]
    },
    {
      "cell_type": "code",
      "metadata": {
        "id": "_LdwilM1qPM3",
        "colab": {
          "base_uri": "https://localhost:8080/"
        },
        "outputId": "63049b53-53a8-4747-b708-b04300799064"
      },
      "source": [
        "# evaluasi nilai loss dan accuracy\n",
        "test_loss, test_acc = model.evaluate(test_dataset)\n",
        "\n",
        "print('Test Loss:', test_loss)\n",
        "print('Test Accuracy:', test_acc)"
      ],
      "execution_count": 41,
      "outputs": [
        {
          "output_type": "stream",
          "text": [
            "973/973 [==============================] - 81s 83ms/step - loss: 0.2084 - accuracy: 0.9127\n",
            "Test Loss: 0.20843426883220673\n",
            "Test Accuracy: 0.9127243161201477\n"
          ],
          "name": "stdout"
        }
      ]
    },
    {
      "cell_type": "code",
      "metadata": {
        "id": "ykUKnAoqbycW",
        "colab": {
          "base_uri": "https://localhost:8080/"
        },
        "outputId": "9158446d-f12c-4a74-93d3-dfa9f8c83115"
      },
      "source": [
        "# prediksi pada teks sampel tanpa padding.\n",
        "\n",
        "sample_text = ('This software was very good and in excellent condition. It is definitely what I wanted.')\n",
        "predictions = model.predict(np.array([sample_text]))\n",
        "print(predictions)"
      ],
      "execution_count": 42,
      "outputs": [
        {
          "output_type": "stream",
          "text": [
            "[[7.158706]]\n"
          ],
          "name": "stdout"
        }
      ]
    },
    {
      "cell_type": "code",
      "metadata": {
        "id": "_YYub0EDtwCu",
        "colab": {
          "base_uri": "https://localhost:8080/",
          "height": 388
        },
        "outputId": "c3cca66b-bdd6-4b13-fff4-4fa620402346"
      },
      "source": [
        "plt.figure(figsize=(16, 6))\n",
        "plt.subplot(1, 2, 1)\n",
        "plot_graphs(history, 'accuracy')\n",
        "plt.subplot(1, 2, 2)\n",
        "plot_graphs(history, 'loss')"
      ],
      "execution_count": 43,
      "outputs": [
        {
          "output_type": "display_data",
          "data": {
            "image/png": "[encoded data removed]",
            "text/plain": [
              "<Figure size 1152x432 with 2 Axes>"
            ]
          },
          "metadata": {
            "tags": [],
            "needs_background": "light"
          }
        }
      ]
    },
    {
      "cell_type": "code",
      "metadata": {
        "id": "X3jeWiPcQZii",
        "colab": {
          "base_uri": "https://localhost:8080/"
        },
        "outputId": "db9fec16-4a88-454f-9cc1-4030aa7d32a7"
      },
      "source": [
        "model.save('my_model1')"
      ],
      "execution_count": 44,
      "outputs": [
        {
          "output_type": "stream",
          "text": [
            "WARNING:absl:Found untraced functions such as lstm_cell_4_layer_call_fn, lstm_cell_4_layer_call_and_return_conditional_losses, lstm_cell_5_layer_call_fn, lstm_cell_5_layer_call_and_return_conditional_losses, lstm_cell_7_layer_call_fn while saving (showing 5 of 20). These functions will not be directly callable after loading.\n"
          ],
          "name": "stderr"
        },
        {
          "output_type": "stream",
          "text": [
            "INFO:tensorflow:Assets written to: my_model1/assets\n"
          ],
          "name": "stdout"
        },
        {
          "output_type": "stream",
          "text": [
            "INFO:tensorflow:Assets written to: my_model1/assets\n"
          ],
          "name": "stderr"
        }
      ]
    }
  ]
}